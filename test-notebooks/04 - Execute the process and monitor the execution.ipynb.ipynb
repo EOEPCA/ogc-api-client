{
 "cells": [
  {
   "cell_type": "markdown",
   "metadata": {},
   "source": [
    "# Execute the process and monitor the execution\n",
    "\n",
    "To submit an execution request of a deployed process and monitor it, the OGC API Processes API uses the resource highlighted in the table below:\n",
    "\n",
    "| **Resource**                   | **Path**                                  | **Purpose**                                                                     | **Part**   |\n",
    "|--------------------------------|-------------------------------------------|---------------------------------------------------------------------------------|------------|\n",
    "| Landing page                   | `/`                                       | Top-level resource serving as an entry point.                                   | Part 1     |\n",
    "| Conformance declaration        | `/conformance`                            | Information about the functionality supported by the server.                    | Part 1     |\n",
    "| API Definition                 | `/api`                                    | Metadata about the API itself.                                                  | Part 1     |\n",
    "| Process list                   | `/processes`                              | Lists available processes with identifiers and links to descriptions.           | Part 1     |\n",
    "| Process description            | `/processes/{processID}`                  | Retrieves detailed information about a specific process.                        | Part 1     |\n",
    "| **Process execution**          | **`/processes/{processID}/execution`**    | **Executes a process, creating a job.**                                         | **Part 1** |\n",
    "| Deploy Process                 | `/processes` (POST)                       | Deploys a new process on the server.                                            | Part 2     |\n",
    "| Replace Process                | `/processes/{processID}` (PUT)            | Replaces an existing process with a new version.                                | Part 2     |\n",
    "| Undeploy Process               | `/processes/{processID}` (DELETE)         | Removes an existing process from the server.                                    | Part 2     |\n",
    "| EO Application Package         | `/processes/{processID}/package` (GET)    | Get the EOAP associated with a deployed process.                                | Part 2     |\n",
    "| **Job status info**            | **`/jobs/{jobID}`**                       | **Retrieves the current status of a job.**                                      | **Part 1** |\n",
    "| **Job results**                | **`/jobs/{jobID}/results`**               | **Retrieves the results of a job.**                                             | **Part 1** |\n",
    "| Job list                       | `/jobs`                                   | Retrieves a list of submitted jobs.                                             | Part 1     |\n",
    "| Job deletion                   | `/jobs/{jobID}`                           | Cancels and deletes a job.                                                      | Part 1     |"
   ]
  },
  {
   "cell_type": "code",
   "execution_count": null,
   "metadata": {},
   "outputs": [],
   "source": [
    "import time\n",
    "import json\n",
    "from pystac.item_collection import ItemCollection\n",
    "from ogc_api_client.api_client import Configuration\n",
    "from ogc_api_client.api_client_wrapper import ApiClientWrapper\n",
    "from typing import Dict, Optional\n",
    "from ogc_api_client.models.status_info import StatusInfo, StatusCode\n",
    "\n",
    "namespace = \"acme\"\n",
    "\n",
    "# ogc_api_endpoint = f\"http://zoo-project-dru-service/{namespace}/ogc-api\"\n",
    "ogc_api_endpoint = f\"http://localhost:8080/{namespace}/ogc-api\"\n",
    "\n",
    "configuration = Configuration(\n",
    "    host=ogc_api_endpoint,\n",
    ")\n",
    "client = ApiClientWrapper(configuration=configuration)"
   ]
  },
  {
   "cell_type": "markdown",
   "metadata": {},
   "source": [
    "Define the input data for the execution:"
   ]
  },
  {
   "cell_type": "code",
   "execution_count": null,
   "metadata": {},
   "outputs": [],
   "source": [
    "data = {\n",
    "    \"inputs\": {\n",
    "        \"stac_items\": [\n",
    "            \"https://earth-search.aws.element84.com/v0/collections/sentinel-s2-l2a-cogs/items/S2B_10TFK_20210713_0_L2A\",\n",
    "            \"https://earth-search.aws.element84.com/v0/collections/sentinel-s2-l2a-cogs/items/S2A_10TFK_20220524_0_L2A\"\n",
    "        ],\n",
    "        \"aoi\": \"-121.399,39.834,-120.74,40.472\",\n",
    "        \"epsg\": \"EPSG:4326\",\n",
    "        \"bands\": [\n",
    "            \"green\",\n",
    "            \"nir\"\n",
    "        ]\n",
    "    }\n",
    "}\n"
   ]
  },
  {
   "cell_type": "markdown",
   "metadata": {},
   "source": [
    "Set request headers"
   ]
  },
  {
   "cell_type": "code",
   "execution_count": null,
   "metadata": {},
   "outputs": [],
   "source": [
    "headers = {\n",
    "    \"accept\": \"*/*\",\n",
    "    \"Prefer\": \"respond-async;return=representation\",\n",
    "    \"Content-Type\": \"application/json\"\n",
    "}"
   ]
  },
  {
   "cell_type": "code",
   "execution_count": null,
   "metadata": {},
   "outputs": [],
   "source": [
    "process_id = \"water-bodies\"  # Replace with your process ID if different\n",
    "\n",
    "# Submit the processing request\n",
    "content = client.execute_simple(process_id=process_id, execute=data, _headers=headers)\n",
    "\n",
    "if isinstance(content, StatusInfo):\n",
    "    # Parse the response to get the job ID\n",
    "    job_id = content.job_id\n",
    "    print(f\"Job submitted successfully. Job ID: {job_id}\")\n",
    "    status_location = next((link.href for link in content.links if link.rel == 'monitor'), None)\n",
    "    if not status_location:\n",
    "        status_location = f\"{ogc_api_endpoint}/jobs/{job_id}\"\n",
    "                           \n",
    "    print(f\"Monitor job status at: {status_location}\")\n",
    "else:\n",
    "    print(f\"Failed to submit job. Status code: {response_data.status}\")\n",
    "    print(\"Response:\", content.text)\n",
    "    raise ValueError(f\"Failed to submit job. Status code: {response_data.status}\")\n"
   ]
  },
  {
   "cell_type": "markdown",
   "metadata": {},
   "source": [
    "Monitor the Job Status"
   ]
  },
  {
   "cell_type": "code",
   "execution_count": null,
   "metadata": {},
   "outputs": [],
   "source": [
    "print(f\"\\nMonitoring job status (job ID: {job_id})...\")\n",
    "\n",
    "while True:\n",
    "    status = client.get_status(job_id=job_id)\n",
    "\n",
    "    if status:\n",
    "        print(f\"Job status: {status.status}\")\n",
    "        \n",
    "        # Check if the job is completed (either successful or failed)\n",
    "        if status.status in [StatusCode.SUCCESSFUL, StatusCode.FAILED]:\n",
    "            break\n",
    "    else:\n",
    "        print(f\"Failed to get job status.\")\n",
    "        break\n",
    "    \n",
    "    # Wait for a few seconds before checking again\n",
    "    time.sleep(10)\n",
    "\n",
    "if status and status.status == StatusCode.SUCCESSFUL:\n",
    "    # print(status)\n",
    "    print(\"\\nJob completed successfully. Retrieving results...\")\n",
    "    result = client.get_result(job_id=job_id)\n",
    "    print(result)\n",
    "    stac_feature_collection = result.get(\"stac_catalog\").actual_instance.value.oneof_schema_2_validator\n",
    "    print(\"STAC item collection:\", stac_feature_collection)\n",
    "else:\n",
    "    print(\"\\nJob did not complete successfully.\")\n"
   ]
  },
  {
   "cell_type": "code",
   "execution_count": null,
   "metadata": {},
   "outputs": [],
   "source": [
    "stac_items = ItemCollection.from_dict(stac_feature_collection).items"
   ]
  },
  {
   "cell_type": "markdown",
   "metadata": {},
   "source": [
    "## Exploit the results"
   ]
  },
  {
   "cell_type": "code",
   "execution_count": null,
   "metadata": {},
   "outputs": [],
   "source": [
    "for item in stac_items:\n",
    "\n",
    "    print(item.get_assets())\n",
    "    print(json.dumps(item.get_assets()[\"data\"].to_dict(), sort_keys=True, indent=4))"
   ]
  },
  {
   "cell_type": "code",
   "execution_count": null,
   "metadata": {},
   "outputs": [],
   "source": []
  }
 ],
 "metadata": {
  "kernelspec": {
   "display_name": "eoepca-ogc",
   "language": "python",
   "name": "python3"
  },
  "language_info": {
   "codemirror_mode": {
    "name": "ipython",
    "version": 3
   },
   "file_extension": ".py",
   "mimetype": "text/x-python",
   "name": "python",
   "nbconvert_exporter": "python",
   "pygments_lexer": "ipython3",
   "version": "3.12.3"
  }
 },
 "nbformat": 4,
 "nbformat_minor": 2
}

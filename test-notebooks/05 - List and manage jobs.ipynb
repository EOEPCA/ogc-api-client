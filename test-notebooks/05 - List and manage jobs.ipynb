{
 "cells": [
  {
   "cell_type": "markdown",
   "metadata": {},
   "source": [
    "# Execute the process and monitor the execution\n",
    "\n",
    "To submit an execution request of a deployed process and monitor it, the OGC API Processes API uses the resource highlighted in the table below:\n",
    "\n",
    "| **Resource**                   | **Path**                                  | **Purpose**                                                                     | **Part**   |\n",
    "|--------------------------------|-------------------------------------------|---------------------------------------------------------------------------------|------------|\n",
    "| Landing page                   | `/`                                       | Top-level resource serving as an entry point.                                   | Part 1     |\n",
    "| Conformance declaration        | `/conformance`                            | Information about the functionality supported by the server.                    | Part 1     |\n",
    "| API Definition                 | `/api`                                    | Metadata about the API itself.                                                  | Part 1     |\n",
    "| Process list                   | `/processes`                              | Lists available processes with identifiers and links to descriptions.           | Part 1     |\n",
    "| Process description            | `/processes/{processID}`                  | Retrieves detailed information about a specific process.                        | Part 1     |\n",
    "| Process execution              | `/processes/{processID}/execution`        | Executes a process, creating a job.                                             | Part 1     |\n",
    "| Deploy Process                 | `/processes` (POST)                       | Deploys a new process on the server.                                            | Part 2     |\n",
    "| Replace Process                | `/processes/{processID}` (PUT)            | Replaces an existing process with a new version.                                | Part 2     |\n",
    "| Undeploy Process               | `/processes/{processID}` (DELETE)         | Removes an existing process from the server.                                    | Part 2     |\n",
    "| EO Application Package         | `/processes/{processID}/package` (GET)    | Get the EOAP associated with a deployed process.                                | Part 2     |\n",
    "| Job status info                | `/jobs/{jobID}`                           | Retrieves the current status of a job.                                          | Part 1     |\n",
    "| Job results                    | `/jobs/{jobID}/results`                   | Retrieves the results of a job.                                                 | Part 1     |\n",
    "| **Job list**                   | **`/jobs`**                               | **Retrieves a list of submitted jobs.**                                         | **Part 1** |\n",
    "| **Job deletion**               | **`/jobs/{jobID}`**                       | **Cancels and deletes a job.**                                                  | **Part 1** |"
   ]
  },
  {
   "cell_type": "code",
   "execution_count": 1,
   "metadata": {},
   "outputs": [],
   "source": [
    "import json\n",
    "from ogcapi_processes_client.api_client import ApiClient, Configuration\n",
    "from typing import Dict, Optional\n",
    "from ogcapi_processes_client.models.status_info import StatusInfo, StatusCode\n",
    "from ogcapi_processes_client.api.status_api import StatusApi\n",
    "from ogcapi_processes_client.api.job_list_api import JobListApi\n",
    "from ogcapi_processes_client.api.dismiss_api import DismissApi\n",
    "\n",
    "\n",
    "namespace = \"acme\"\n",
    "\n",
    "# ogc_api_endpoint = f\"http://zoo-project-dru-service/{namespace}/ogc-api\"\n",
    "ogc_api_endpoint = f\"http://localhost:8080/{namespace}/ogc-api\"\n",
    "\n",
    "configuration = Configuration(\n",
    "    host=ogc_api_endpoint,\n",
    ")\n",
    "client = ApiClient(configuration=configuration)"
   ]
  },
  {
   "cell_type": "markdown",
   "metadata": {},
   "source": [
    "Submit a job as in notebook 04:"
   ]
  },
  {
   "cell_type": "code",
   "execution_count": 15,
   "metadata": {},
   "outputs": [
    {
     "name": "stdout",
     "output_type": "stream",
     "text": [
      "Job submitted successfully. Job ID: e4df5522-144a-11f0-a813-c64eedf142e1\n",
      "Monitor job status at: http://localhost:8080/acme/ogc-api/jobs/e4df5522-144a-11f0-a813-c64eedf142e1\n"
     ]
    }
   ],
   "source": [
    "data = {\n",
    "    \"inputs\": {\n",
    "        \"stac_items\": [\n",
    "            \"https://earth-search.aws.element84.com/v0/collections/sentinel-s2-l2a-cogs/items/S2B_10TFK_20210713_0_L2A\",\n",
    "            \"https://earth-search.aws.element84.com/v0/collections/sentinel-s2-l2a-cogs/items/S2A_10TFK_20220524_0_L2A\"\n",
    "        ],\n",
    "        \"aoi\": \"-121.399,39.834,-120.74,40.472\",\n",
    "        \"epsg\": \"EPSG:4326\",\n",
    "        \"bands\": [\n",
    "            \"green\",\n",
    "            \"nir\"\n",
    "        ]\n",
    "    }\n",
    "}\n",
    "\n",
    "headers = {\n",
    "    \"accept\": \"*/*\",\n",
    "    \"Prefer\": \"respond-async;return=representation\",\n",
    "    \"Content-Type\": \"application/json\"\n",
    "}\n",
    "\n",
    "process_id = \"water-bodies\"  # Replace with your process ID if different\n",
    "\n",
    "# Submit the processing request\n",
    "response_data = client.rest_client.request(\n",
    "    \"POST\", f\"{ogc_api_endpoint}/processes/{process_id}/execution\",\n",
    "    headers=headers,\n",
    "    body=data,\n",
    ")\n",
    "\n",
    "_response_types_map: Dict[str, Optional[str]] = {\n",
    "    '200': \"Execute200Response\",\n",
    "    '201': \"StatusInfo\",\n",
    "    '404': \"Exception\",\n",
    "    '500': \"Exception\",\n",
    "}\n",
    "\n",
    "response_data.read()\n",
    "content = client.response_deserialize(\n",
    "    response_data=response_data,\n",
    "    response_types_map=_response_types_map,\n",
    ").data\n",
    "\n",
    "if isinstance(content, StatusInfo):\n",
    "    # Parse the response to get the job ID\n",
    "    job_id = content.job_id\n",
    "    print(f\"Job submitted successfully. Job ID: {job_id}\")\n",
    "    status_location = next((link.href for link in content.links if link.rel == 'monitor'), None)\n",
    "    if not status_location:\n",
    "        status_location = f\"{ogc_api_endpoint}/jobs/{job_id}\"\n",
    "                           \n",
    "    print(f\"Monitor job status at: {status_location}\")\n",
    "else:\n",
    "    print(f\"Failed to submit job. Status code: {response_data.status}\")\n",
    "    print(\"Response:\", content.text)\n",
    "    raise ValueError(f\"Failed to submit job. Status code: {response_data.status}\")\n"
   ]
  },
  {
   "cell_type": "markdown",
   "metadata": {},
   "source": [
    "Request the list of jobs"
   ]
  },
  {
   "cell_type": "code",
   "execution_count": 16,
   "metadata": {},
   "outputs": [
    {
     "name": "stdout",
     "output_type": "stream",
     "text": [
      "\n",
      "Job list...\n",
      "\n",
      "Job status...\n",
      "StatusCode.RUNNING\n"
     ]
    }
   ],
   "source": [
    "print(\"\\nJob list...\")\n",
    "\n",
    "job_list_api = JobListApi(api_client=client)\n",
    "status_api = StatusApi(api_client=client)\n",
    "\n",
    "#job_list = job_list_api.get_jobs()\n",
    "\n",
    "#for job in job_list.jobs:\n",
    "#    print(f\"Job: {job.job_id} ({job.process_id}), status: {job.status}\")\n",
    "\n",
    "print(\"\\nJob status...\")\n",
    "\n",
    "try:\n",
    "    status = status_api.get_status(job_id=job_id)\n",
    "    print(status.status)\n",
    "except Exception as e:\n",
    "    print(f\"ERROR: {str(e)}\")\n"
   ]
  },
  {
   "cell_type": "markdown",
   "metadata": {},
   "source": [
    "Delete (dismiss) running job"
   ]
  },
  {
   "cell_type": "code",
   "execution_count": 17,
   "metadata": {},
   "outputs": [
    {
     "data": {
      "text/plain": [
       "StatusInfo(process_id='water-bodies', type='process', job_id='e4df5522-144a-11f0-a813-c64eedf142e1', status=<StatusCode.DISMISSED: 'dismissed'>, message='ZOO-Kernel successfully dismissed your service!', created=datetime.datetime(2025, 4, 8, 7, 27, 15, 151000, tzinfo=TzInfo(UTC)), started=datetime.datetime(2025, 4, 8, 7, 27, 15, 151000, tzinfo=TzInfo(UTC)), finished=None, updated=datetime.datetime(2025, 4, 8, 7, 27, 16, 93000, tzinfo=TzInfo(UTC)), progress=None, links=[Link(href='http://localhost:8080/acme/ogc-api/jobs', rel='parent', type='application/json', hreflang=None, title='The job list for the current process')])"
      ]
     },
     "execution_count": 17,
     "metadata": {},
     "output_type": "execute_result"
    }
   ],
   "source": [
    "dismiss_api = DismissApi(api_client=client)\n",
    "dismiss_api.dismiss(job_id=job_id)"
   ]
  },
  {
   "cell_type": "markdown",
   "metadata": {},
   "source": [
    "Check whether job still exists"
   ]
  },
  {
   "cell_type": "code",
   "execution_count": 18,
   "metadata": {},
   "outputs": [
    {
     "name": "stdout",
     "output_type": "stream",
     "text": [
      "\n",
      "Job list...\n",
      "\n",
      "Job status...\n",
      "ERROR: (404)\n",
      "Reason: Not Found\n",
      "HTTP response headers: HTTPHeaderDict({'Date': 'Tue, 08 Apr 2025 07:27:47 GMT', 'Server': 'Apache/2.4.41 (Ubuntu)', 'X-Powered-By': 'ZOO-Project-DRU', 'X-Also-Powered-By': 'jwt.securityIn', 'X-Also-Also-Powered-By': 'dru.securityIn', 'Transfer-Encoding': 'chunked', 'Content-Type': 'application/json;charset=UTF-8'})\n",
      "HTTP response body: type='http://www.opengis.net/def/rel/ogc/1.0/exception/no-such-job' title='NoSuchJob' status=None detail='The JobID from the request does not match any of the Jobs running on this server' instance=None additional_properties={}\n",
      "\n"
     ]
    }
   ],
   "source": [
    "print(\"\\nJob list...\")\n",
    "\n",
    "#job_list = job_list_api.get_jobs()\n",
    "\n",
    "#for job in job_list.jobs:\n",
    "#    print(f\"Job: {job.job_id} ({job.process_id}), status: {job.status}\")\n",
    "\n",
    "print(\"\\nJob status...\")\n",
    "\n",
    "try:\n",
    "    status = status_api.get_status(job_id=job_id)\n",
    "    print(status.status)\n",
    "except Exception as e:\n",
    "    print(f\"ERROR: {str(e)}\")\n"
   ]
  }
 ],
 "metadata": {
  "kernelspec": {
   "display_name": "eoepca-ogc",
   "language": "python",
   "name": "python3"
  },
  "language_info": {
   "codemirror_mode": {
    "name": "ipython",
    "version": 3
   },
   "file_extension": ".py",
   "mimetype": "text/x-python",
   "name": "python",
   "nbconvert_exporter": "python",
   "pygments_lexer": "ipython3",
   "version": "3.12.3"
  }
 },
 "nbformat": 4,
 "nbformat_minor": 2
}

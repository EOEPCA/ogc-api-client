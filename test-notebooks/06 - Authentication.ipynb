{
 "cells": [
  {
   "cell_type": "markdown",
   "metadata": {},
   "source": [
    "# Authentication\n",
    "\n",
    "Authentication works via modifiers to the request (it is possible to add or change HTTP request headers).\n",
    "This is set at the client level and applies to all APIs and supported paths.\n",
    "\n",
    "## Note:\n",
    "\n",
    "This notebook does not contact an actual OGC API endpoint, it is only to verify that the requests are correctly modified.\n",
    "\n",
    "For this purpose, it is necessary to be able to receive the request via a simple testing server, such as [simple-http-logger](https://github.com/CycodeLabs/simple-http-logger), which can be started like this\n",
    "\n",
    "```bash\n",
    "server.py 8081\n",
    "```"
   ]
  },
  {
   "cell_type": "markdown",
   "metadata": {},
   "source": [
    "## Define the modifier method\n",
    "\n",
    "The method prints a line to show that it was called and adds a Bearer header."
   ]
  },
  {
   "cell_type": "code",
   "execution_count": null,
   "metadata": {},
   "outputs": [],
   "source": [
    "def set_token(**kwargs):\n",
    "    print(\"Setting header\")\n",
    "    headers = kwargs.get('headers')\n",
    "    if headers is not None:\n",
    "        headers['Authorization'] = \"Bearer 1234\"\n"
   ]
  },
  {
   "cell_type": "markdown",
   "metadata": {},
   "source": [
    "## Get the processes list as an example"
   ]
  },
  {
   "cell_type": "code",
   "execution_count": null,
   "metadata": {},
   "outputs": [],
   "source": [
    "from ogc_api_client.api_client import Configuration\n",
    "from ogc_api_client.api_client_wrapper import ApiClientWrapper\n",
    "\n",
    "namespace = \"acme\"\n",
    "\n",
    "# Testing host (localhost), not an actual OGC API endpoint:\n",
    "ogc_api_endpoint = f\"http://localhost:8081/{namespace}/ogc-api\"\n",
    "\n",
    "configuration = Configuration(\n",
    "    host=ogc_api_endpoint,\n",
    ")\n",
    "client = ApiClientWrapper(configuration=configuration, modifier=set_token)\n",
    "\n",
    "try:\n",
    "    processes = client.get_processes()\n",
    "except Exception as e:\n",
    "    print(\"EXCEPTION (expected): {0}\".format(str(e)))\n"
   ]
  },
  {
   "cell_type": "markdown",
   "metadata": {},
   "source": [
    "## Explanation\n",
    "\n",
    "The `modifier` parameter for the `ApiClientWrapper` constructor is a method that needs to accept a `headers` dictionary as a keyword argument.\n",
    "\n",
    "That method can add or modify the headers, which are then sent to the actual OGC API (in this notebook only to a testing server). Since the response is empty and not a process list, the API call will fail, but we are only interested in the correct request.\n",
    "\n",
    "The server should receive an Authorization header:\n",
    "\n",
    "```\n",
    "Host: localhost:8081\n",
    "Accept-Encoding: identity\n",
    "Authorization: Bearer 1234\n",
    "Accept: application/json\n",
    "User-Agent: OpenAPI-Generator/1.0.0/python\n",
    "\n",
    "127.0.0.1 - - [03/Jul/2025 17:00:37] \"GET /acme/ogc-api/processes HTTP/1.1\" 200 -\n",
    "```\n",
    "\n",
    "This flexible approach can be used for all sorts of header-based authentication, in particular API key or Bearer authentication."
   ]
  },
  {
   "cell_type": "markdown",
   "metadata": {},
   "source": []
  }
 ],
 "metadata": {
  "kernelspec": {
   "display_name": "eoepca-ogc",
   "language": "python",
   "name": "python3"
  },
  "language_info": {
   "codemirror_mode": {
    "name": "ipython",
    "version": 3
   },
   "file_extension": ".py",
   "mimetype": "text/x-python",
   "name": "python",
   "nbconvert_exporter": "python",
   "pygments_lexer": "ipython3",
   "version": "3.12.3"
  }
 },
 "nbformat": 4,
 "nbformat_minor": 2
}
